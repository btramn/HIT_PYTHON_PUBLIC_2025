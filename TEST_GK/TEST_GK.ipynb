#Bài 2
list = input("Nhập danh sách: ").split()
result = []
for word in list:
    for ch in word:
        if ch not in result:
            result.append(ch)

print("Kết quả:", result)

#Bài 3
n = int(input("Nhập số lượng phần tử n: "))
a = list(map(int, input("Nhập dãy n số nguyên, cách nhau bởi dấu cách: ").split()))

b = []
k = 1

for i in range(n):
    if i == 0:
        bi = k
    else:
        bi = b[-1] + 1

    while bi == a[i]:
        bi += 1

    b.append(bi)

print("Giá trị nhỏ nhất của bn là:", b[-1])

#Bài 1
a = list(map(int, input("Nhập dãy số nguyên cách nhau bởi dấu cách: ").split()))
result = []

while True:
    if len(a) == 0:
        break 

    i = a[0]  

    count = 0
    for x in a:
        if x == i:
            count += 1

    if count % 5 == 0 and i % 10 != 0:
        result.append(i)

    a = [x for x in a if x != i]

print("Kết quả:", " ".join(map(str, result)))
