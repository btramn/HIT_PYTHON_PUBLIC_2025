{
 "cells": [
  {
   "cell_type": "code",
   "execution_count": 1,
   "id": "cf607b0e",
   "metadata": {},
   "outputs": [
    {
     "name": "stdout",
     "output_type": "stream",
     "text": [
      "Kết quả: ['a', 'b', 'c', '9']\n"
     ]
    }
   ],
   "source": [
    "#Bài 2\n",
    "list = input(\"Nhập danh sách: \").split()\n",
    "result = []\n",
    "for word in list:\n",
    "    for ch in word:\n",
    "        if ch not in result:\n",
    "            result.append(ch)\n",
    "\n",
    "print(\"Kết quả:\", result)\n"
   ]
  },
  {
   "cell_type": "code",
   "execution_count": 4,
   "id": "d3f810a3",
   "metadata": {},
   "outputs": [
    {
     "name": "stdout",
     "output_type": "stream",
     "text": [
      "Giá trị nhỏ nhất của bn là: 8\n"
     ]
    }
   ],
   "source": [
    "#Bài 3\n",
    "\n",
    "n = int(input(\"Nhập số lượng phần tử n: \"))\n",
    "a = list(map(int, input(\"Nhập dãy n số nguyên, cách nhau bởi dấu cách: \").split()))\n",
    "\n",
    "b = []\n",
    "k = 1\n",
    "\n",
    "for i in range(n):\n",
    "    if i == 0:\n",
    "        bi = k\n",
    "    else:\n",
    "        bi = b[-1] + 1\n",
    "\n",
    "    while bi == a[i]:\n",
    "        bi += 1\n",
    "\n",
    "    b.append(bi)\n",
    "\n",
    "print(\"Giá trị nhỏ nhất của bn là:\", b[-1])\n"
   ]
  }
 ],
 "metadata": {
  "kernelspec": {
   "display_name": "Python 3",
   "language": "python",
   "name": "python3"
  },
  "language_info": {
   "codemirror_mode": {
    "name": "ipython",
    "version": 3
   },
   "file_extension": ".py",
   "mimetype": "text/x-python",
   "name": "python",
   "nbconvert_exporter": "python",
   "pygments_lexer": "ipython3",
   "version": "3.13.5"
  }
 },
 "nbformat": 4,
 "nbformat_minor": 5
}
